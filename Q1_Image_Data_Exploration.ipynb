{
 "cells": [
  {
   "cell_type": "markdown",
   "id": "14210e89",
   "metadata": {},
   "source": [
    "# Q1 — Image Data Exploration\n",
    "\n",
    "This notebook explores an image dataset: dataset shape, class balance, class prototypes (mean/median images), \n",
    "2D visualisation with PCA, and intra-class similarity via MSE histograms.\n",
    "\n",
    "> Expected data files in `datasets/`:\n",
    "> - `image_data.npz` with arrays: `train_X`, `train_Y`, `test_X`, `test_Y`."
   ]
  },
  {
   "cell_type": "code",
   "execution_count": null,
   "id": "d1510bad",
   "metadata": {},
   "outputs": [],
   "source": [
    "# Imports\n",
    "import numpy as np\n",
    "import matplotlib.pyplot as plt\n",
    "import pandas as pd\n",
    "import math\n",
    "from sklearn.decomposition import PCA\n",
    "from pathlib import Path\n",
    "\n",
    "# Set a larger default figure size\n",
    "plt.rcParams['figure.figsize'] = (8, 5)\n",
    "\n",
    "# Load dataset\n",
    "data_path = Path('datasets/image_data.npz')\n",
    "if not data_path.exists():\n",
    "    raise FileNotFoundError(\"Expected datasets/image_data.npz. Please place the file in datasets/.\")\n",
    "\n",
    "data = np.load(data_path)\n",
    "train_X = data['train_X']\n",
    "train_Y = data['train_Y'].ravel()\n",
    "test_X  = data['test_X']\n",
    "test_Y  = data['test_Y'].ravel()\n",
    "\n",
    "train_X.shape, train_Y.shape, test_X.shape, test_Y.shape"
   ]
  },
  {
   "cell_type": "markdown",
   "id": "d014d9b1",
   "metadata": {},
   "source": [
    "## 1a) Dataset dimensions & class distribution"
   ]
  },
  {
   "cell_type": "code",
   "execution_count": null,
   "id": "9603c6e0",
   "metadata": {},
   "outputs": [],
   "source": [
    "# Basic counts\n",
    "train_items, n_features = train_X.shape\n",
    "test_items  = test_X.shape[0]\n",
    "print(f\"Training items: {train_items}, Features: {n_features}\")\n",
    "print(f\"Testing  items: {test_items}, Features: {test_X.shape[1]}\")\n",
    "\n",
    "# Class distribution\n",
    "classes, counts = np.unique(train_Y, return_counts=True)\n",
    "fig, ax = plt.subplots()\n",
    "ax.bar(classes, counts)\n",
    "ax.set_title('Population size of classes in training data')\n",
    "ax.set_xlabel('Class')\n",
    "ax.set_ylabel('Count')\n",
    "plt.show()"
   ]
  },
  {
   "cell_type": "markdown",
   "id": "d9f1bb9a",
   "metadata": {},
   "source": [
    "## 1b) Class prototypes (Mean/Median images)"
   ]
  },
  {
   "cell_type": "code",
   "execution_count": null,
   "id": "b0ecd53e",
   "metadata": {},
   "outputs": [],
   "source": [
    "# Pick 4 classes at random\n",
    "rng = np.random.default_rng(42)\n",
    "selected_classes = rng.choice(np.unique(train_Y), 4, replace=False)\n",
    "\n",
    "# Guess image side length (square images assumed)\n",
    "image_side = int(math.sqrt(n_features))\n",
    "\n",
    "mean_images, median_images = [], []\n",
    "for cls in selected_classes:\n",
    "    idx = np.where(train_Y == cls)[0]\n",
    "    imgs = train_X[idx].reshape(-1, image_side, image_side)\n",
    "    mean_images.append(imgs.mean(axis=0))\n",
    "    median_images.append(np.median(imgs, axis=0))\n",
    "\n",
    "for i, cls in enumerate(selected_classes):\n",
    "    fig, axes = plt.subplots(1, 2, figsize=(6, 3))\n",
    "    axes[0].imshow(mean_images[i], cmap='gray')\n",
    "    axes[0].set_title(f'Class {cls} — Mean')\n",
    "    axes[0].axis('off')\n",
    "    axes[1].imshow(median_images[i], cmap='gray')\n",
    "    axes[1].set_title(f'Class {cls} — Median')\n",
    "    axes[1].axis('off')\n",
    "    plt.tight_layout()\n",
    "    plt.show()"
   ]
  },
  {
   "cell_type": "markdown",
   "id": "51f0f36c",
   "metadata": {},
   "source": [
    "## 1c) PCA scatter for two classes"
   ]
  },
  {
   "cell_type": "code",
   "execution_count": null,
   "id": "012b87ac",
   "metadata": {},
   "outputs": [],
   "source": [
    "# Choose two classes (override here if you want specific IDs)\n",
    "class_1, class_2 = 15, 42\n",
    "idx1 = np.where(train_Y == class_1)[0]\n",
    "idx2 = np.where(train_Y == class_2)[0]\n",
    "\n",
    "X = np.vstack([train_X[idx1], train_X[idx2]])\n",
    "y = np.hstack([np.full(len(idx1), class_1), np.full(len(idx2), class_2)])\n",
    "\n",
    "pca = PCA(n_components=2, random_state=0)\n",
    "X2 = pca.fit_transform(X)\n",
    "\n",
    "fig, ax = plt.subplots()\n",
    "ax.scatter(X2[y == class_1, 0], X2[y == class_1, 1], label=f\"Class {class_1}\", s=12)\n",
    "ax.scatter(X2[y == class_2, 0], X2[y == class_2, 1], label=f\"Class {class_2}\", s=12)\n",
    "ax.set_xlabel('PC1')\n",
    "ax.set_ylabel('PC2')\n",
    "ax.set_title('PCA (2D) of two classes')\n",
    "ax.legend()\n",
    "plt.show()"
   ]
  },
  {
   "cell_type": "markdown",
   "id": "389132c6",
   "metadata": {},
   "source": [
    "## 1d) Intra-class similarity with MSE"
   ]
  },
  {
   "cell_type": "code",
   "execution_count": null,
   "id": "bcf1b5e6",
   "metadata": {},
   "outputs": [],
   "source": [
    "def pairwise_mse(A):\n",
    "    n = A.shape[0]\n",
    "    out = np.zeros((n, n))\n",
    "    for i in range(n):\n",
    "        for j in range(i+1, n):\n",
    "            mse = np.mean((A[i] - A[j])**2)\n",
    "            out[i, j] = out[j, i] = mse\n",
    "    # Return upper triangle values (excluding diagonal) as a flat array\n",
    "    tri = out[np.triu_indices(n, k=1)]\n",
    "    return tri\n",
    "\n",
    "# Subset 1: all images from a chosen class\n",
    "subset1_class = 6\n",
    "idx = np.where(train_Y == subset1_class)[0]\n",
    "subset1 = train_X[idx]\n",
    "\n",
    "# Subset 2: same number of random images from the full training set\n",
    "rng = np.random.default_rng(0)\n",
    "rand_idx = rng.choice(train_items, size=len(idx), replace=False)\n",
    "subset2 = train_X[rand_idx]\n",
    "\n",
    "mse1 = pairwise_mse(subset1)\n",
    "mse2 = pairwise_mse(subset2)\n",
    "\n",
    "fig, axes = plt.subplots(1, 2, figsize=(10,4))\n",
    "axes[0].hist(mse1, bins=20)\n",
    "axes[0].set_title(f'MSE — Subset 1 (class {subset1_class})')\n",
    "axes[0].set_xlabel('MSE')\n",
    "axes[0].set_ylabel('Frequency')\n",
    "axes[1].hist(mse2, bins=20)\n",
    "axes[1].set_title('MSE — Subset 2 (random classes)')\n",
    "axes[1].set_xlabel('MSE')\n",
    "plt.tight_layout()\n",
    "plt.show()"
   ]
  }
 ],
 "metadata": {
  "kernelspec": {
   "display_name": "Python 3",
   "language": "python",
   "name": "python3"
  },
  "language_info": {
   "name": "python",
   "version": "3"
  }
 },
 "nbformat": 4,
 "nbformat_minor": 5
}
